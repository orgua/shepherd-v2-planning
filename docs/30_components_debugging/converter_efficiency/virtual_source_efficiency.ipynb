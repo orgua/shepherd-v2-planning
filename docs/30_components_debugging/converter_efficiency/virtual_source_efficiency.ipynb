{
 "cells": [
  {
   "cell_type": "markdown",
   "id": "17101475aca2ce75",
   "metadata": {},
   "source": [
    "# Virtual Source - Efficiency of Boost & Buck - Converters\n",
    "\n",
    "eta = P_OUT / P_IN = (V_OUT * I_OUT) / (V_IN * I_IN)\n",
    "\n",
    "## Boost Converter\n",
    "\n",
    "The general circuit can be seen on [wikipedia](https://en.wikipedia.org/wiki/Boost_converter#Circuit_analysis).\n",
    "\n",
    "There are two states for the continuous mode:\n",
    "\n",
    "- ON - where the mosfet-switch is closed, so the input is shortcut with the coil\n",
    "- OFF - where the mosfet-switch is open and the energy of the coil is pumped to the output-capacitor\n",
    "\n",
    "To model the efficiency there must be added some more resistive components\n",
    "\n",
    "### Resistive components\n",
    "\n",
    "Efficiency is mostly through heat by resistive parts in the circuit. Components to explore:\n",
    "\n",
    "- coil\n",
    "- mosfet\n",
    "- diode\n",
    "- capacitor\n",
    "- traces\n",
    "\n",
    "Starting with the [datasheet of the BQ25570](https://www.ti.com/product/BQ25570) and the accompanying [user's guide for the evaluation module](https://www.ti.com/tool/BQ25570EVM-206) for the investigation.\n",
    "\n",
    "#### Coil \n",
    "\n",
    "The Coil for the EVM is `LPS4018-223M` with 22uH."
   ]
  },
  {
   "cell_type": "code",
   "execution_count": null,
   "id": "initial_id",
   "metadata": {
    "collapsed": true
   },
   "outputs": [],
   "source": [
    "L_boost_coil = 22e-6\n",
    "R_boost_coil = 0.360\n",
    "I_boost_coil_rms = 0.65\n",
    "I_boost_coil_sat = 0.74"
   ]
  },
  {
   "cell_type": "markdown",
   "id": "56541e898851388f",
   "metadata": {},
   "source": [
    "#### Diode & Mosfet\n",
    "\n",
    "The diode of the boost-circuit is replaced by mosfets for the BQ-ICs.\n",
    "Looking at the datasheet there are\n",
    "\n",
    "- a low side charge pnp-mosfet (the general mosfet of a boost circuit)\n",
    "- a high side charge npn-mosfet (replacement for the diode)\n",
    "- another npn-mosfet for the battery (pin, where the storage capacity is)\n",
    "\n",
    "Conduction loss can be calculated by:\n",
    "\n",
    "```\n",
    "P_C = (I_D)² * R_DS\n",
    "```\n",
    "\n",
    "Several on-resistances can be found:"
   ]
  },
  {
   "cell_type": "code",
   "execution_count": null,
   "id": "662bf04cc5751c21",
   "metadata": {},
   "outputs": [],
   "source": [
    "# VBat = 4.2 V\n",
    "R_ds_chg_ls_typ = 0.7  # low side, typical\n",
    "R_ds_chg_ls_max = 0.9\n",
    "R_ds_chg_hs_typ = 2.3  # high side\n",
    "R_ds_chg_hs_max = 3.0\n",
    "# VBat = 2.1 V\n",
    "R_ds_chg_ls_typ = 0.8  # low side, typical\n",
    "R_ds_chg_ls_max = 1.0\n",
    "R_ds_chg_hs_typ = 3.7  # high side\n",
    "R_ds_chg_hs_max = 4.8\n",
    "\n",
    "# as the main cap is\n",
    "R_DS_Bat_typ = 0.95  # typical\n",
    "R_DS_Bat_max = 1.5"
   ]
  },
  {
   "cell_type": "markdown",
   "id": "f8ef2dcf1810692e",
   "metadata": {},
   "source": [
    "#### Capacitor\n",
    "\n",
    "For the Capacitor some parameters can be determined. \n",
    "The EVM uses a `GRM43SR60J107ME20L`, 100uF, 6.3volts, X5R, 20%"
   ]
  },
  {
   "cell_type": "markdown",
   "id": "5ad016c20c9d958",
   "metadata": {},
   "source": [
    "### Switching losses\n",
    "\n",
    "This is mostly guesswork, as the datasheet does not give much insight. \n",
    "\n",
    "**NOTE**: The gate-charge of the mosfets is only assumed by looking at similar discrete mosfets (similar current rating for that r_ds-range).\n",
    "\n",
    "```\n",
    "P_SW = V_IN * I_OUT * f_SW * (Q_GS + Q_GD) / I_G\n",
    "```\n",
    "\n",
    "or alternatively\n",
    "\n",
    "```math\n",
    "P_SW = 1/2 * V_IN * I_D * (t_R + t_F) * f_SW\n",
    "```\n",
    "\n",
    "Unfortunately the rise/fall-times or gate-current can't be determined. \n",
    "\n",
    "The additional Gate-Charge loss is\n",
    "\n",
    "```\n",
    "P_GC = Q_G * V_GS * f_SW\n",
    "```"
   ]
  },
  {
   "cell_type": "code",
   "execution_count": 1,
   "id": "6ac0eb5ad90411af",
   "metadata": {
    "ExecuteTime": {
     "end_time": "2024-09-13T13:32:54.255975Z",
     "start_time": "2024-09-13T13:32:54.251612Z"
    }
   },
   "outputs": [],
   "source": [
    "f_sw_boost_max = 1e6\n",
    "Q_gate_pnp = 1.0e-9  # estimated, .36 ... 1.4 nC for similar fets\n",
    "Q_gate_npn = 1.5e-9  # estimated, 1.2 ... 1.9 nC for similar fets\n",
    "\n",
    "# example losses\n",
    "P_GC = Q_gate_pnp * 4.2 * f_sw_boost_max"
   ]
  },
  {
   "cell_type": "markdown",
   "id": "c2036159b8440aae",
   "metadata": {},
   "source": [
    "### IC Consumption\n",
    "\n",
    "The datasheet gives info about the current-draw of the IC. Referenced Voltage should be V_storage.\n"
   ]
  },
  {
   "cell_type": "code",
   "execution_count": null,
   "id": "415db459c670c2a9",
   "metadata": {},
   "outputs": [],
   "source": [
    "I_bq70_quiescent = 488e-9  # max 700 nA @ ~ 25°C"
   ]
  }
 ],
 "metadata": {
  "kernelspec": {
   "display_name": "Python 3",
   "language": "python",
   "name": "python3"
  },
  "language_info": {
   "codemirror_mode": {
    "name": "ipython",
    "version": 2
   },
   "file_extension": ".py",
   "mimetype": "text/x-python",
   "name": "python",
   "nbconvert_exporter": "python",
   "pygments_lexer": "ipython2",
   "version": "2.7.6"
  }
 },
 "nbformat": 4,
 "nbformat_minor": 5
}
